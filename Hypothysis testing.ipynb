{
 "cells": [
  {
   "cell_type": "markdown",
   "id": "completed-formation",
   "metadata": {},
   "source": [
    "# HYPOTHESIS TESTING"
   ]
  },
  {
   "cell_type": "markdown",
   "id": "resistant-semester",
   "metadata": {},
   "source": [
    "# T-TEST WITH ONE SAMPLE"
   ]
  },
  {
   "cell_type": "code",
   "execution_count": 2,
   "id": "smart-dictionary",
   "metadata": {},
   "outputs": [],
   "source": [
    "RANDOM_NOS = [10,45,67,20,67,30,20,45,78,93,23,14,54,56,32,24,10,45,67,20,67,30,20,45,78,93,23,14,54,56,32,24]"
   ]
  },
  {
   "cell_type": "code",
   "execution_count": 3,
   "id": "differential-relation",
   "metadata": {},
   "outputs": [
    {
     "data": {
      "application/javascript": [
       "\n",
       "        if (window._pyforest_update_imports_cell) { window._pyforest_update_imports_cell('import numpy as np'); }\n",
       "    "
      ],
      "text/plain": [
       "<IPython.core.display.Javascript object>"
      ]
     },
     "metadata": {},
     "output_type": "display_data"
    }
   ],
   "source": [
    "RANDOM_NOS_mean = np.mean(RANDOM_NOS)"
   ]
  },
  {
   "cell_type": "code",
   "execution_count": 10,
   "id": "hidden-austria",
   "metadata": {},
   "outputs": [
    {
     "data": {
      "text/plain": [
       "42.375"
      ]
     },
     "execution_count": 10,
     "metadata": {},
     "output_type": "execute_result"
    }
   ],
   "source": [
    "RANDOM_NOS_mean"
   ]
  },
  {
   "cell_type": "code",
   "execution_count": 11,
   "id": "confidential-validation",
   "metadata": {},
   "outputs": [
    {
     "data": {
      "application/javascript": [
       "\n",
       "        if (window._pyforest_update_imports_cell) { window._pyforest_update_imports_cell('import numpy as np'); }\n",
       "    "
      ],
      "text/plain": [
       "<IPython.core.display.Javascript object>"
      ]
     },
     "metadata": {},
     "output_type": "display_data"
    }
   ],
   "source": [
    "RANDOM_NOS_sample = np.random.choice(RANDOM_NOS,15)"
   ]
  },
  {
   "cell_type": "code",
   "execution_count": 12,
   "id": "assumed-effects",
   "metadata": {},
   "outputs": [
    {
     "data": {
      "text/plain": [
       "array([93, 56, 67, 23, 56, 20, 20, 30, 45, 20, 67, 23, 10, 30, 24])"
      ]
     },
     "execution_count": 12,
     "metadata": {},
     "output_type": "execute_result"
    }
   ],
   "source": [
    "RANDOM_NOS_sample"
   ]
  },
  {
   "cell_type": "code",
   "execution_count": 14,
   "id": "consistent-transcript",
   "metadata": {},
   "outputs": [],
   "source": [
    "from scipy.stats import ttest_1samp"
   ]
  },
  {
   "cell_type": "code",
   "execution_count": 24,
   "id": "mature-default",
   "metadata": {},
   "outputs": [],
   "source": [
    "ttest,p_value = ttest_1samp(RANDOM_NOS_sample,42)"
   ]
  },
  {
   "cell_type": "code",
   "execution_count": 25,
   "id": "accompanied-panel",
   "metadata": {},
   "outputs": [
    {
     "data": {
      "text/plain": [
       "0.6253015448250229"
      ]
     },
     "execution_count": 25,
     "metadata": {},
     "output_type": "execute_result"
    }
   ],
   "source": [
    "p_value"
   ]
  },
  {
   "cell_type": "code",
   "execution_count": 27,
   "id": "australian-bradford",
   "metadata": {},
   "outputs": [
    {
     "name": "stdout",
     "output_type": "stream",
     "text": [
      "null hypothesis is true i.e there is no relation between RANDOM_NOS_mean and  RANDOM_NOS_sample\n"
     ]
    }
   ],
   "source": [
    "if p_value > 0.05:\n",
    "    print(\"null hypothesis is true i.e there is no relation between RANDOM_NOS_mean and  RANDOM_NOS_sample\")\n",
    "else:\n",
    "    print(\"alternative hypothesis is true\")"
   ]
  },
  {
   "cell_type": "code",
   "execution_count": null,
   "id": "capable-globe",
   "metadata": {},
   "outputs": [],
   "source": []
  }
 ],
 "metadata": {
  "kernelspec": {
   "display_name": "Python 3",
   "language": "python",
   "name": "python3"
  },
  "language_info": {
   "codemirror_mode": {
    "name": "ipython",
    "version": 3
   },
   "file_extension": ".py",
   "mimetype": "text/x-python",
   "name": "python",
   "nbconvert_exporter": "python",
   "pygments_lexer": "ipython3",
   "version": "3.9.1"
  }
 },
 "nbformat": 4,
 "nbformat_minor": 5
}
